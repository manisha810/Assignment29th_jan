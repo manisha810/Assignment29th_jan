{
 "cells": [
  {
   "cell_type": "code",
   "execution_count": null,
   "id": "97732029-a334-4f76-adcd-3098bd375976",
   "metadata": {},
   "outputs": [],
   "source": [
    "Q1.. who developed python programming language?\n",
    "\n",
    "--->  Guido van Rossum."
   ]
  },
  {
   "cell_type": "code",
   "execution_count": null,
   "id": "0e225d53-7044-4008-952c-34ee2bdf6d66",
   "metadata": {},
   "outputs": [],
   "source": [
    "Q2.. which type of programming does python support?\n",
    "\n",
    "--->  Python supports both object-oriented and procedural programming."
   ]
  },
  {
   "cell_type": "code",
   "execution_count": null,
   "id": "5d6730b2-0f40-42be-b863-4c58d4d5647b",
   "metadata": {},
   "outputs": [],
   "source": [
    "Q3.. Is python case sensitive when dealing with identifliers?\n",
    "\n",
    "---> Yes, Python is a case-sensitive language while dealing with identifiers.\n",
    "     it treats uppercase and lowercase characters differently."
   ]
  },
  {
   "cell_type": "code",
   "execution_count": null,
   "id": "ce54d9ed-e39e-488a-992e-0e97d0e9e0aa",
   "metadata": {},
   "outputs": [],
   "source": [
    "Q4.. what is the correct extension of the python file?\n",
    "\n",
    "---> When creating programs and code in Python, the correct file extension for code is .py."
   ]
  },
  {
   "cell_type": "code",
   "execution_count": null,
   "id": "1fdc945a-60ac-4444-8172-0d55a08ea946",
   "metadata": {},
   "outputs": [],
   "source": [
    "Q5.. Is python code compiled or interpreted?\n",
    "\n",
    "---> Python as a programming language that is neither compiled nor interpreted even though \n",
    "    it is sometimes called an interpreted language, this is because both these terms are actually a\n",
    "    property of the implementation of a language and not the language itself.\n",
    "    Python is compiled to bytecode and then it is routed to the virtual machine through interpretation."
   ]
  },
  {
   "cell_type": "code",
   "execution_count": null,
   "id": "63709561-4bd3-4560-8c9a-564f46d83c63",
   "metadata": {},
   "outputs": [],
   "source": [
    "Q6.. Name  a few blocks of code used to define in python language?\n",
    "\n",
    "--> Indentation is used to define a block of code in python."
   ]
  },
  {
   "cell_type": "code",
   "execution_count": null,
   "id": "95f12983-9987-4346-becb-ed51607cca47",
   "metadata": {},
   "outputs": [],
   "source": [
    "Q7.. State a character used   to give single - line comments in python?\n",
    "\n",
    "--> We use the # symbol to write a single-line comment."
   ]
  },
  {
   "cell_type": "code",
   "execution_count": null,
   "id": "efe45e08-6c5e-4958-a662-046525127588",
   "metadata": {},
   "outputs": [],
   "source": [
    "Q8.. Mention function which can help us to find the version of python that we are currently working on?\n",
    "\n",
    "---> The function sys.version can help us to find the version of python that we are currently working on."
   ]
  },
  {
   "cell_type": "code",
   "execution_count": null,
   "id": "a0429604-5dc0-4b6f-b500-bd448426d364",
   "metadata": {},
   "outputs": [],
   "source": [
    "Q9.. Python supports the creation of anonymous functions at runtime, using a construct called __________ \n",
    "\n",
    "---> Lambda."
   ]
  },
  {
   "cell_type": "code",
   "execution_count": null,
   "id": "c3f0f7f0-13ac-4497-9f6e-529944bc3952",
   "metadata": {},
   "outputs": [],
   "source": [
    "Q10.. what does pip stand for python?\n",
    "\n",
    "\n",
    "--->  pip stands for \"preferred installer program\"."
   ]
  },
  {
   "cell_type": "code",
   "execution_count": null,
   "id": "0110d6b0-d84d-4138-ab21-06b9a4fbd6af",
   "metadata": {},
   "outputs": [],
   "source": [
    "Q11.. Mention a few built in function in python?\n",
    "\n",
    "---> float(), bool(),id(), chr(), int(), str(), print(),range()"
   ]
  },
  {
   "cell_type": "code",
   "execution_count": null,
   "id": "dc254225-b329-4561-b3d4-ece96bc5fa8b",
   "metadata": {},
   "outputs": [],
   "source": [
    "Q12.. What is the Maximum Possible Length of an Identifier in Python?\n",
    "\n",
    "---> The maximum possible length of an identifier in the Python language is 79 characters. "
   ]
  },
  {
   "cell_type": "code",
   "execution_count": null,
   "id": "e1f60362-ac40-4dc2-9fea-58f919fef367",
   "metadata": {},
   "outputs": [],
   "source": [
    "Q13.. what are the benefits of using python?\n",
    "\n",
    "--->  *work with less code.\n",
    "      *Easy to learn.\n",
    "      *User-Friendly data structures.\n",
    "      *Object-oriented programming.\n",
    "      *Easy syntax.\n",
    "      *high-level language and easy readbility."
   ]
  },
  {
   "cell_type": "code",
   "execution_count": null,
   "id": "2970c520-0811-4b5d-9138-014282e1a1e1",
   "metadata": {},
   "outputs": [],
   "source": [
    "Q14.. How is memory managed in python?\n",
    "\n",
    "---> Memory in Python is managed by Python private heap space.\n",
    "    All Python objects and data structures are located in a private heap.\n",
    "    This private heap is taken care of by Python Interpreter itself, and a programmer doesn’t have access to this private heap.\n",
    "    Python memory manager takes care of the allocation of Python private heap space.\n",
    "    Memory for Python private heap space is made available by Python’s in-built garbage collector,\n",
    "    which recycles and frees up all the unused memory."
   ]
  },
  {
   "cell_type": "code",
   "execution_count": null,
   "id": "d18a1368-af50-491c-b695-6c4159b929d5",
   "metadata": {},
   "outputs": [],
   "source": [
    "Q15.. How to install python on windows and set path variables?\n",
    " \n",
    "--->  Install python..\n",
    "    > Select Version of Python to Install.\n",
    "    > Download Python Executable Installer.\n",
    "    > Run Executable Installer.\n",
    "    \n",
    "      set path..   \n",
    "    >   Open an administrative command prompt by going to\n",
    "        Start > Windows System > Command Prompt.\n",
    "        Next, right-click on the command prompt icon, choose More, then choose “run as administrator\".  \n",
    "    >   Once the Type in the python command, and then press Enter.\n",
    "    >   Click on the Advanced tab at the top and then on the Environment Variables button at the bottom.\n",
    "    >   This will open both the User and System Variables dialog box.\n",
    "    >   Now, we will create a new User Variable. Click on the New button.\n",
    "    >   Click the OK button on all three open windows to save the entries.\n",
    "    "
   ]
  },
  {
   "cell_type": "code",
   "execution_count": null,
   "id": "97d76dec-69f6-467b-8c2b-9094c2a9f894",
   "metadata": {},
   "outputs": [],
   "source": [
    "Q16.. Is indentation required in python?\n",
    "\n",
    "--->  Yes,"
   ]
  }
 ],
 "metadata": {
  "kernelspec": {
   "display_name": "Python 3 (ipykernel)",
   "language": "python",
   "name": "python3"
  },
  "language_info": {
   "codemirror_mode": {
    "name": "ipython",
    "version": 3
   },
   "file_extension": ".py",
   "mimetype": "text/x-python",
   "name": "python",
   "nbconvert_exporter": "python",
   "pygments_lexer": "ipython3",
   "version": "3.10.8"
  }
 },
 "nbformat": 4,
 "nbformat_minor": 5
}
